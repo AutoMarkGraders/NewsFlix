{
 "cells": [
  {
   "cell_type": "code",
   "execution_count": null,
   "id": "e0271af9-f9d9-445f-96a5-ffb2ae02d40f",
   "metadata": {},
   "outputs": [
    {
     "name": "stderr",
     "output_type": "stream",
     "text": [
      "C:\\Users\\danie\\anaconda3\\Lib\\site-packages\\transformers\\models\\bart\\configuration_bart.py:176: UserWarning: Please make sure the config includes `forced_bos_token_id=0` in future versions. The config can simply be saved and uploaded again to be fixed.\n",
      "  warnings.warn(\n"
     ]
    },
    {
     "name": "stdout",
     "output_type": "stream",
     "text": [
      "The Paris Agreement aims to limit global warming to below 2 degrees Celsius, with efforts to keep it under 1.5 degrees. Renewable energy sources like solar, wind, and hydropower are seen as critical components of this transition. Governments, private companies and international organizations are investing billions of dollars in renewable energy projects to support the transition. According to IEA, renewable energy sources accounted for nearly 90% of the global power capacity added in 2021.\n",
      "\n",
      "Artificial Intelligence (AI) is making progress in various industries. Its potential in healthcare is increasingly being recognized. AI-based imaging tools are now being used to analyze X-rays, CT scans, and MRIs with an accuracy that rivals that of human radiologists. In 2023, an AI-designed drug will enter human clinical trials for the first time, targeting a rare form of lung cancer. AI is also being leveraged to improve patient care and hospital efficiency. However, the integration of AI in healthcare presents some challenges.\n",
      "\n",
      "There is a growing global push to protect biodiversity. The Kunming-Montreal Global Biodiversity Framework, adopted in 2022, aims to halt biodiversity loss by 2030. Brazil is intensifying efforts to reduce Amazon deforestation and the U.S. has launched the “America the Beautiful’ initiative to protect 30% of its lands and waters. Corporations and NGOs are adopting sustainable practices and supporting reforestation projects.\n"
     ]
    }
   ],
   "source": [
    "import torch\n",
    "from transformers import pipeline, AutoTokenizer, AutoModelForSeq2SeqLM\n",
    "import warnings\n",
    "warnings.filterwarnings(\"ignore\", category=UserWarning)\n",
    "\n",
    "model_name = \"philschmid/bart-large-cnn-samsum\"\n",
    "\n",
    "tokenizer = AutoTokenizer.from_pretrained(f\"./saved_model/tokenizer/{model_name}\")\n",
    "model = AutoModelForSeq2SeqLM.from_pretrained(f\"./saved_model/model/{model_name}\")\n",
    "\n",
    "summarizer = pipeline(\"summarization\", model=model, tokenizer=tokenizer)\n",
    "\n",
    "# input text to summarize\n",
    "input_text = ['''As the world grapples with the escalating effects of climate change, a significant shift towards renewable energy is taking place across various countries. In the past few years, an increasing number of nations have set ambitious targets to transition away from fossil fuels and invest in clean energy alternatives. This shift is being driven by the urgency to mitigate carbon emissions, improve air quality, and meet the climate goals outlined in international agreements such as the Paris Agreement.\n",
    "The Paris Agreement, signed in 2015, aims to limit global warming to below 2 degrees Celsius, with efforts to keep it under 1.5 degrees. Achieving this goal requires a drastic reduction in greenhouse gas emissions, and renewable energy sources like solar, wind, and hydropower are seen as critical components of this transition. Governments, private companies, and international organizations are investing billions of dollars in renewable energy projects to support this transition.\n",
    "For instance, the European Union has committed to making the bloc carbon-neutral by 2050. This includes a massive expansion of wind farms across the North Sea, increased investment in solar power, and the development of hydrogen as a clean energy source. Germany, a leading country in the EU’s energy transition, has been focusing heavily on wind and solar power. Recently, the country shut down its last nuclear power plants and increased subsidies for renewable energy projects to meet its climate targets.\n",
    "Meanwhile, in the United States, the Inflation Reduction Act, passed in 2022, has significantly boosted clean energy investment. The Act includes provisions for tax credits and subsidies for solar panel installations, electric vehicles, and battery storage systems. These incentives have led to a surge in renewable energy projects across states like Texas, California, and New York. Texas, traditionally known for its oil production, has emerged as a leader in wind energy production, while California continues to lead in solar power generation.\n",
    "China, the world’s largest emitter of carbon dioxide, has also taken steps to reduce its dependence on coal. The country is the global leader in solar panel manufacturing and has been installing solar and wind power at an unprecedented rate. China's goal is to reach peak carbon emissions by 2030 and achieve carbon neutrality by 2060. Despite these efforts, the country still faces challenges due to its heavy reliance on coal for energy production, but the recent investments signal a willingness to shift towards a cleaner energy future.\n",
    "In addition to government initiatives, the private sector is playing a crucial role in the renewable energy revolution. Tech giants like Google, Amazon, and Microsoft have committed to powering their data centers with 100% renewable energy. These companies have signed power purchase agreements (PPAs) with wind and solar farms to ensure a steady supply of green energy. Microsoft, for instance, has pledged to become carbon negative by 2030, meaning it will remove more carbon from the atmosphere than it emits.\n",
    "The shift towards renewable energy is not without challenges. The intermittent nature of solar and wind energy means that there is a need for advancements in energy storage technologies, such as batteries, to ensure a consistent power supply. Additionally, the transition requires significant upgrades to the existing power grid infrastructure to accommodate the decentralized nature of renewable energy sources.\n",
    "Moreover, the extraction of materials required for renewable energy technologies, like lithium for batteries and rare earth elements for wind turbines, raises concerns about environmental impacts and supply chain stability. Critics argue that while renewable energy is a crucial part of the solution to climate change, it is not entirely free of environmental trade-offs.\n",
    "Despite these challenges, the momentum behind renewable energy continues to grow. According to the International Energy Agency (IEA), renewable energy sources accounted for nearly 90% of the global power capacity added in 2021. The IEA projects that solar power could become the largest source of electricity generation by 2050, surpassing coal.\n",
    "Developing countries are also seeing the benefits of renewable energy. In regions like sub-Saharan Africa, where many communities lack access to reliable electricity, solar power is being used to provide off-grid solutions. Projects like solar mini-grids are helping to bring electricity to remote areas, improving access to education, healthcare, and economic opportunities.\n",
    "The shift towards renewable energy is not just about reducing carbon emissions; it is also about creating economic opportunities. The renewable energy sector has become a major source of job creation, with millions of jobs being generated in solar installation, wind turbine manufacturing, and battery production. As fossil fuel industries decline, the clean energy sector offers a pathway for economic growth and sustainable development.\n",
    "As the world moves towards a cleaner energy future, collaboration between countries, industries, and communities will be key. While challenges remain, the transition to renewable energy represents a crucial step in addressing the global climate crisis and ensuring a sustainable future for generations to come.\n",
    "''',\n",
    "'''Artificial Intelligence (AI) continues to make significant strides in various industries, and its potential in healthcare is increasingly being recognized. Recent developments in AI have led to the creation of advanced algorithms capable of diagnosing diseases, predicting patient outcomes, and streamlining administrative tasks in medical institutions.\n",
    "One of the most notable breakthroughs has been in the field of radiology. AI-based imaging tools are now being used to analyze X-rays, CT scans, and MRIs with an accuracy that rivals that of human radiologists. For example, a recent study published in the journal Nature demonstrated that an AI algorithm was able to detect early signs of lung cancer in CT scans with a higher accuracy rate than a panel of expert radiologists. This development could significantly improve early detection rates, leading to better patient outcomes and more effective treatment plans.\n",
    "Another promising area is the use of AI in drug discovery. Traditionally, developing new drugs is a time-consuming and expensive process, often taking years of research and billions of dollars in investment. However, AI models can analyze vast datasets of chemical compounds and predict which combinations might be effective in treating specific diseases. In 2023, an AI-designed drug entered human clinical trials for the first time, targeting a rare form of lung cancer. If successful, this could pave the way for AI to play a larger role in pharmaceutical research and development, speeding up the process of bringing new treatments to market.\n",
    "AI is also being leveraged to improve patient care and hospital efficiency. Many hospitals are using AI-powered chatbots to handle routine patient inquiries, allowing staff to focus on more complex tasks. Additionally, AI systems can predict patient admission rates, helping hospitals optimize staffing and resources to manage patient flow more effectively. This has been particularly valuable during the COVID-19 pandemic, when many healthcare facilities were overwhelmed with patients.\n",
    "However, the integration of AI in healthcare is not without challenges. Data privacy remains a major concern, as medical data is highly sensitive and regulations such as the Health Insurance Portability and Accountability Act (HIPAA) in the United States impose strict guidelines on how patient information can be used and stored. Ensuring that AI systems are transparent and free of bias is also crucial, as biased algorithms could lead to unequal treatment outcomes.\n",
    "Despite these challenges, experts believe that the potential benefits of AI in healthcare far outweigh the risks. According to a report from the World Health Organization, AI could help address global healthcare shortages by assisting medical professionals in under-resourced regions, providing remote diagnostics and support. As AI technology continues to evolve, its role in shaping the future of medicine will only grow, offering new possibilities for how we understand, treat, and prevent disease.\n",
    "The coming years will likely see increased investment in AI healthcare solutions, with governments and private companies alike recognizing the transformative potential of this technology. While there is still much to be done in terms of regulation and integration, the future of AI in healthcare looks promising, offering hope for more efficient, effective, and accessible medical care around the world.\n",
    "''',\n",
    "'''In recent years, there has been a growing global push to protect biodiversity as the impacts of habitat loss, pollution, and climate change drive species closer to extinction. Governments and organizations worldwide have launched initiatives to conserve biodiversity hotspots, restore damaged ecosystems, and establish new protected areas. \n",
    "The Kunming-Montreal Global Biodiversity Framework, adopted in 2022, aims to halt biodiversity loss by 2030, setting targets like protecting 30% of land and marine areas and restoring 20% of degraded ecosystems. \n",
    "Countries such as Brazil are intensifying efforts to reduce Amazon deforestation, while the U.S. has launched the “America the Beautiful” initiative to protect 30% of its lands and waters. In addition, corporations and NGOs are adopting sustainable practices and supporting reforestation projects. However, challenges such as funding, enforcement, and conflicting land-use priorities remain. \n",
    "Conservationists believe that a shift toward viewing ecological health as essential to economic resilience is crucial for achieving lasting impact.\n",
    "''']\n",
    "\n",
    "# Generate the summary\n",
    "summary = summarizer(input_text)    #, min_length=50, max_length=75\n",
    "\n",
    "s1 = summary[0]['summary_text']\n",
    "s2 = summary[1]['summary_text']\n",
    "s3 = summary[2]['summary_text']\n",
    "\n",
    "# Print the summary\n",
    "print(s1+\"\\n\")\n",
    "print(s2+\"\\n\")\n",
    "print(s3)"
   ]
  },
  {
   "cell_type": "code",
   "execution_count": null,
   "id": "364e1e8f-f8a7-47fa-a404-71068c2f33ab",
   "metadata": {},
   "outputs": [],
   "source": []
  }
 ],
 "metadata": {
  "kernelspec": {
   "display_name": "Python 3 (ipykernel)",
   "language": "python",
   "name": "python3"
  },
  "language_info": {
   "codemirror_mode": {
    "name": "ipython",
    "version": 3
   },
   "file_extension": ".py",
   "mimetype": "text/x-python",
   "name": "python",
   "nbconvert_exporter": "python",
   "pygments_lexer": "ipython3",
   "version": "3.11.7"
  }
 },
 "nbformat": 4,
 "nbformat_minor": 5
}
